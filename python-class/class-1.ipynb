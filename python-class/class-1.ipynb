{
 "cells": [
  {
   "cell_type": "markdown",
   "metadata": {},
   "source": [
    "## Python Tutorial\n",
    "\n",
    "- Creating Variables\n",
    "\n",
    "Python has no command for declaring a variable. <br>\n",
    "A variable is created the moment you first assign a value to it."
   ]
  },
  {
   "cell_type": "code",
   "execution_count": 1,
   "metadata": {},
   "outputs": [
    {
     "name": "stdout",
     "output_type": "stream",
     "text": [
      "10\n",
      "Tony Stark\n",
      "True\n"
     ]
    }
   ],
   "source": [
    "a = 10\n",
    "b = \"Tony Stark\"\n",
    "c = True\n",
    "\n",
    "print(a)\n",
    "print(b)\n",
    "print(c)"
   ]
  },
  {
   "cell_type": "markdown",
   "metadata": {},
   "source": [
    "Sting variables can be described either by single or double quotes"
   ]
  },
  {
   "cell_type": "code",
   "execution_count": 2,
   "metadata": {},
   "outputs": [
    {
     "name": "stdout",
     "output_type": "stream",
     "text": [
      "Apple\n",
      "Mango\n"
     ]
    }
   ],
   "source": [
    "a = \"Apple\"\n",
    "b = 'Mango'\n",
    "\n",
    "print(a)\n",
    "print(b)"
   ]
  },
  {
   "cell_type": "markdown",
   "metadata": {},
   "source": [
    "Names are Case Sensitive"
   ]
  },
  {
   "cell_type": "code",
   "execution_count": 3,
   "metadata": {},
   "outputs": [
    {
     "name": "stdout",
     "output_type": "stream",
     "text": [
      "100\n",
      "400\n"
     ]
    }
   ],
   "source": [
    "a = 100\n",
    "A = 400\n",
    "\n",
    "print(a)\n",
    "print(A)"
   ]
  },
  {
   "cell_type": "markdown",
   "metadata": {},
   "source": [
    "### Declaring Variables\n",
    "\n",
    "- A variable can have short names but its better to have a more descriptive name(e.g: personName, productCart, Age etc.)\n",
    "\n",
    "Rules for Variable Names:\n",
    "- A variable name must start with a letter or the underscore character\n",
    "- A variable name cannot start with a number\n",
    "- A variable name can only contain alpha-numeric characters and underscores\n",
    "- Variable names are case-sensitive"
   ]
  },
  {
   "cell_type": "code",
   "execution_count": null,
   "metadata": {},
   "outputs": [],
   "source": [
    "#Allowed Names\n",
    "\n",
    "newvariable = \"Genesis\"\n",
    "new_variable = \"Genesis\"\n",
    "_new_variable = \"Genesis\"\n",
    "newVariable = \"Genesis\"\n",
    "NEWVARIABLE = \"Genesis\"\n",
    "newvariable2 = \"Genesis\"\n",
    "\n",
    "#Not Allowed\n",
    "\n",
    "2newvariable = \"Genesis\"\n",
    "new-variable = \"Genesis\"\n",
    "new variable = \"Genesis\""
   ]
  },
  {
   "cell_type": "markdown",
   "metadata": {},
   "source": [
    "Assigning Multiple Variables"
   ]
  },
  {
   "cell_type": "code",
   "execution_count": 5,
   "metadata": {},
   "outputs": [
    {
     "name": "stdout",
     "output_type": "stream",
     "text": [
      "2\n",
      "python\n",
      "False\n"
     ]
    }
   ],
   "source": [
    "#Many values to multiple variables\n",
    "a, b, c = 2, \"python\", False\n",
    "\n",
    "print(a)\n",
    "print(b)\n",
    "print(c)"
   ]
  },
  {
   "cell_type": "code",
   "execution_count": 6,
   "metadata": {},
   "outputs": [
    {
     "name": "stdout",
     "output_type": "stream",
     "text": [
      "5\n",
      "5\n",
      "5\n"
     ]
    }
   ],
   "source": [
    "#One value to multiple variables\n",
    "a = b = c = 5\n",
    "\n",
    "print(a)\n",
    "print(b)\n",
    "print(c)"
   ]
  },
  {
   "cell_type": "code",
   "execution_count": 7,
   "metadata": {},
   "outputs": [
    {
     "name": "stdout",
     "output_type": "stream",
     "text": [
      "10\n",
      "50\n",
      "90\n"
     ]
    }
   ],
   "source": [
    "#collection unpacking\n",
    "a, b, c = [10, 50, 90]\n",
    "\n",
    "print(a)\n",
    "print(b)\n",
    "print(c)"
   ]
  },
  {
   "cell_type": "markdown",
   "metadata": {},
   "source": [
    "Output Variables"
   ]
  },
  {
   "cell_type": "code",
   "execution_count": 8,
   "metadata": {},
   "outputs": [
    {
     "name": "stdout",
     "output_type": "stream",
     "text": [
      "Machines are learning\n"
     ]
    }
   ],
   "source": [
    "print(\"Machines are learning\")"
   ]
  },
  {
   "cell_type": "code",
   "execution_count": 9,
   "metadata": {},
   "outputs": [
    {
     "name": "stdout",
     "output_type": "stream",
     "text": [
      "MachinesLearning\n"
     ]
    }
   ],
   "source": [
    "a = \"Machines\"\n",
    "b = \"Learning\"\n",
    "\n",
    "print(a+b)"
   ]
  },
  {
   "cell_type": "code",
   "execution_count": null,
   "metadata": {
    "scrolled": true
   },
   "outputs": [],
   "source": [
    "print(\"python score is:: \" + 80)"
   ]
  },
  {
   "cell_type": "markdown",
   "metadata": {},
   "source": [
    "### Global and Local variables\n",
    "- Global variables are declared outside the function and can be accessed from anywhere\n",
    "- Local variables are declared inside the function and are only called in that code block"
   ]
  },
  {
   "cell_type": "code",
   "execution_count": 4,
   "metadata": {},
   "outputs": [
    {
     "name": "stdout",
     "output_type": "stream",
     "text": [
      "Elon Musk is Owner of Space-X\n",
      "Elon Musk is owner of Tesla\n"
     ]
    },
    {
     "ename": "NameError",
     "evalue": "name 'b_val' is not defined",
     "output_type": "error",
     "traceback": [
      "\u001b[1;31m---------------------------------------------------------------------------\u001b[0m",
      "\u001b[1;31mNameError\u001b[0m                                 Traceback (most recent call last)",
      "\u001b[1;32m<ipython-input-4-2bce92e31418>\u001b[0m in \u001b[0;36m<module>\u001b[1;34m\u001b[0m\n\u001b[0;32m     11\u001b[0m \u001b[0mfunc_b\u001b[0m\u001b[1;33m(\u001b[0m\u001b[1;33m)\u001b[0m\u001b[1;33m\u001b[0m\u001b[1;33m\u001b[0m\u001b[0m\n\u001b[0;32m     12\u001b[0m \u001b[0mfunc_c\u001b[0m\u001b[1;33m(\u001b[0m\u001b[1;33m)\u001b[0m\u001b[1;33m\u001b[0m\u001b[1;33m\u001b[0m\u001b[0m\n\u001b[1;32m---> 13\u001b[1;33m \u001b[0mprint\u001b[0m\u001b[1;33m(\u001b[0m\u001b[0ma_val\u001b[0m\u001b[1;33m,\u001b[0m \u001b[0mb_val\u001b[0m\u001b[1;33m,\u001b[0m \u001b[0mc_val\u001b[0m\u001b[1;33m)\u001b[0m\u001b[1;33m\u001b[0m\u001b[1;33m\u001b[0m\u001b[0m\n\u001b[0m",
      "\u001b[1;31mNameError\u001b[0m: name 'b_val' is not defined"
     ]
    }
   ],
   "source": [
    "a_val = \"Elon Musk\" #global variable\n",
    "\n",
    "def func_b():\n",
    "    b_val = \" is Owner of Space-X\" #local variable\n",
    "    print(a_val+b_val)\n",
    "    \n",
    "def func_c():\n",
    "    c_val = \" is owner of Tesla\"\n",
    "    print(a_val+c_val)\n",
    "    \n",
    "func_b()\n",
    "func_c()\n",
    "print(a_val, b_val, c_val)"
   ]
  },
  {
   "cell_type": "markdown",
   "metadata": {},
   "source": [
    "### Data Types\n",
    "\n",
    "Variables can store different data-types, different data-types can do different things."
   ]
  },
  {
   "cell_type": "markdown",
   "metadata": {},
   "source": [
    "Number\n",
    "- int\n",
    "- float\n",
    "- complex"
   ]
  },
  {
   "cell_type": "code",
   "execution_count": 12,
   "metadata": {},
   "outputs": [
    {
     "name": "stdout",
     "output_type": "stream",
     "text": [
      "<class 'int'>\n",
      "<class 'int'>\n"
     ]
    }
   ],
   "source": [
    "#Int\n",
    "\n",
    "a = 1000\n",
    "b = -1234\n",
    "\n",
    "print(type(a))\n",
    "print(type(b))"
   ]
  },
  {
   "cell_type": "code",
   "execution_count": 14,
   "metadata": {},
   "outputs": [
    {
     "name": "stdout",
     "output_type": "stream",
     "text": [
      "<class 'float'>\n",
      "<class 'int'>\n"
     ]
    }
   ],
   "source": [
    "#changing datatypes \n",
    "a = 10.89\n",
    "print(type(a))\n",
    "b = int(a)\n",
    "print(type(b))"
   ]
  },
  {
   "cell_type": "code",
   "execution_count": 16,
   "metadata": {},
   "outputs": [
    {
     "name": "stdout",
     "output_type": "stream",
     "text": [
      "<class 'float'>\n",
      "<class 'float'>\n",
      "<class 'float'>\n"
     ]
    }
   ],
   "source": [
    "#float\n",
    "\n",
    "a = 10.839\n",
    "b = 6/4\n",
    "c = -89.29\n",
    "print(type(a))\n",
    "print(type(b))\n",
    "print(type(c))"
   ]
  },
  {
   "cell_type": "code",
   "execution_count": 17,
   "metadata": {},
   "outputs": [
    {
     "name": "stdout",
     "output_type": "stream",
     "text": [
      "<class 'int'>\n",
      "<class 'float'>\n"
     ]
    }
   ],
   "source": [
    "#change to float\n",
    "\n",
    "a = 9\n",
    "\n",
    "b = float(a)\n",
    "\n",
    "print(type(a))\n",
    "print(type(b))"
   ]
  },
  {
   "cell_type": "code",
   "execution_count": 22,
   "metadata": {},
   "outputs": [
    {
     "name": "stdout",
     "output_type": "stream",
     "text": [
      "<class 'complex'>\n",
      "<class 'complex'>\n"
     ]
    }
   ],
   "source": [
    "#complex\n",
    "\n",
    "a = 3 + 8j\n",
    "b = 7j\n",
    "\n",
    "print(type(a))\n",
    "print(type(b))"
   ]
  },
  {
   "cell_type": "code",
   "execution_count": 23,
   "metadata": {},
   "outputs": [
    {
     "name": "stdout",
     "output_type": "stream",
     "text": [
      "3.0\n",
      "8.0\n",
      "0.0 7.0\n"
     ]
    }
   ],
   "source": [
    "#split complex into real and imaginary\n",
    "\n",
    "print(a.real)\n",
    "print(a.imag)\n",
    "print(b.real, b.imag)"
   ]
  },
  {
   "cell_type": "code",
   "execution_count": 21,
   "metadata": {},
   "outputs": [
    {
     "name": "stdout",
     "output_type": "stream",
     "text": [
      "(3-8j)\n"
     ]
    }
   ],
   "source": [
    "print(a.conjugate())"
   ]
  },
  {
   "cell_type": "code",
   "execution_count": 40,
   "metadata": {},
   "outputs": [
    {
     "name": "stdout",
     "output_type": "stream",
     "text": [
      "3\n",
      "13\n"
     ]
    }
   ],
   "source": [
    "#Random Number\n",
    "\n",
    "import random\n",
    "print(random.randint(1,4))\n",
    "print(random.randrange(1,100, 2))"
   ]
  },
  {
   "cell_type": "markdown",
   "metadata": {},
   "source": [
    "#### Type Casting\n",
    "\n",
    "Change one data type to another"
   ]
  },
  {
   "cell_type": "code",
   "execution_count": 41,
   "metadata": {},
   "outputs": [
    {
     "name": "stdout",
     "output_type": "stream",
     "text": [
      "<class 'str'>\n",
      "<class 'int'>\n"
     ]
    }
   ],
   "source": [
    "a = \"199\"\n",
    "print(type(a))\n",
    "print(type(int(a)))"
   ]
  },
  {
   "cell_type": "markdown",
   "metadata": {},
   "source": [
    "String"
   ]
  },
  {
   "cell_type": "code",
   "execution_count": 1,
   "metadata": {},
   "outputs": [],
   "source": [
    "a = \"\"\"\n",
    "    Data science is an interdisciplinary \n",
    "    field focused on extracting knowledge \n",
    "    from data sets, which are typically large \n",
    "    (see big data), and applying the knowledge \n",
    "    and actionable insights from data to solve \n",
    "    problems in a wide range of application domains\n",
    "\"\"\""
   ]
  },
  {
   "cell_type": "code",
   "execution_count": 2,
   "metadata": {},
   "outputs": [
    {
     "name": "stdout",
     "output_type": "stream",
     "text": [
      "\n",
      "    Data science is an interdisciplinary \n",
      "    field focused on extracting knowledge \n",
      "    from data sets, which are typically large \n",
      "    (see big data), and applying the knowledge \n",
      "    and actionable insights from data to solve \n",
      "    problems in a wide range of application domains\n",
      "\n"
     ]
    }
   ],
   "source": [
    "print(a)"
   ]
  },
  {
   "cell_type": "code",
   "execution_count": 4,
   "metadata": {},
   "outputs": [
    {
     "name": "stdout",
     "output_type": "stream",
     "text": [
      "A r t\n"
     ]
    }
   ],
   "source": [
    "#String are treated as arrays\n",
    "\n",
    "a = \"Artificial Intelligence\"\n",
    "\n",
    "print(a[0], a[1], a[2])"
   ]
  },
  {
   "cell_type": "code",
   "execution_count": 5,
   "metadata": {},
   "outputs": [
    {
     "name": "stdout",
     "output_type": "stream",
     "text": [
      "A\n",
      "r\n",
      "t\n",
      "i\n",
      "f\n",
      "i\n",
      "c\n",
      "i\n",
      "a\n",
      "l\n",
      " \n",
      "I\n",
      "n\n",
      "t\n",
      "e\n",
      "l\n",
      "l\n",
      "i\n",
      "g\n",
      "e\n",
      "n\n",
      "c\n",
      "e\n"
     ]
    }
   ],
   "source": [
    "#for loop\n",
    "for i in a:\n",
    "    print(i)"
   ]
  },
  {
   "cell_type": "code",
   "execution_count": 6,
   "metadata": {},
   "outputs": [
    {
     "data": {
      "text/plain": [
       "23"
      ]
     },
     "execution_count": 6,
     "metadata": {},
     "output_type": "execute_result"
    }
   ],
   "source": [
    "#len of string\n",
    "len(a)"
   ]
  },
  {
   "cell_type": "code",
   "execution_count": 9,
   "metadata": {},
   "outputs": [
    {
     "name": "stdout",
     "output_type": "stream",
     "text": [
      "tho\n"
     ]
    }
   ],
   "source": [
    "#slicing in string\n",
    "\n",
    "x = \"python is fun\"\n",
    "\n",
    "print(x[2:5])"
   ]
  },
  {
   "cell_type": "code",
   "execution_count": 12,
   "metadata": {},
   "outputs": [
    {
     "name": "stdout",
     "output_type": "stream",
     "text": [
      "s fu\n",
      "f si n\n"
     ]
    }
   ],
   "source": [
    "print(x[-5:-1])\n",
    "print(x[-3:-9:-1])"
   ]
  },
  {
   "cell_type": "code",
   "execution_count": 17,
   "metadata": {},
   "outputs": [
    {
     "name": "stdout",
     "output_type": "stream",
     "text": [
      " python \n",
      " PYTHON \n",
      "python\n",
      " pithon \n",
      "['', 'python', '']\n"
     ]
    }
   ],
   "source": [
    "#Modify string\n",
    "\n",
    "x = \" python \"\n",
    "\n",
    "print(x.lower())\n",
    "print(x.upper())\n",
    "print(x.strip())\n",
    "print(x.replace(\"y\", \"i\"))\n",
    "print(x.split(\" \"))"
   ]
  },
  {
   "cell_type": "code",
   "execution_count": 18,
   "metadata": {},
   "outputs": [
    {
     "name": "stdout",
     "output_type": "stream",
     "text": [
      "heloo pthon\n"
     ]
    }
   ],
   "source": [
    "#concatenate\n",
    "\n",
    "print(\"heloo\" + \" \"+ \"pthon\")"
   ]
  },
  {
   "cell_type": "code",
   "execution_count": 20,
   "metadata": {},
   "outputs": [
    {
     "name": "stdout",
     "output_type": "stream",
     "text": [
      "My fathers age is 56 and my age is 25\n"
     ]
    }
   ],
   "source": [
    "#Format strings\n",
    "\n",
    "x = 56\n",
    "y = 25\n",
    "\n",
    "print(\"My fathers age is {} and my age is {}\".format(x, y))"
   ]
  },
  {
   "cell_type": "code",
   "execution_count": 22,
   "metadata": {},
   "outputs": [
    {
     "name": "stdout",
     "output_type": "stream",
     "text": [
      "My fathers age is 56 and my age is 25\n",
      "My fathers age is 56 and my age is 25\n"
     ]
    }
   ],
   "source": [
    "print(\"My fathers age is {0} and my age is {1}\".format(x, y))\n",
    "print(\"My fathers age is {1} and my age is {0}\".format(y, x))"
   ]
  },
  {
   "cell_type": "code",
   "execution_count": 14,
   "metadata": {},
   "outputs": [
    {
     "ename": "TypeError",
     "evalue": "'str' object does not support item assignment",
     "output_type": "error",
     "traceback": [
      "\u001b[1;31m---------------------------------------------------------------------------\u001b[0m",
      "\u001b[1;31mTypeError\u001b[0m                                 Traceback (most recent call last)",
      "\u001b[1;32m<ipython-input-14-cb6bfa83a03c>\u001b[0m in \u001b[0;36m<module>\u001b[1;34m\u001b[0m\n\u001b[0;32m      2\u001b[0m \u001b[1;33m\u001b[0m\u001b[0m\n\u001b[0;32m      3\u001b[0m \u001b[0ms\u001b[0m \u001b[1;33m=\u001b[0m \u001b[1;34m\"python\"\u001b[0m\u001b[1;33m\u001b[0m\u001b[1;33m\u001b[0m\u001b[0m\n\u001b[1;32m----> 4\u001b[1;33m \u001b[0ms\u001b[0m\u001b[1;33m[\u001b[0m\u001b[1;36m1\u001b[0m\u001b[1;33m]\u001b[0m \u001b[1;33m=\u001b[0m \u001b[1;34m\"i\"\u001b[0m\u001b[1;33m\u001b[0m\u001b[1;33m\u001b[0m\u001b[0m\n\u001b[0m",
      "\u001b[1;31mTypeError\u001b[0m: 'str' object does not support item assignment"
     ]
    }
   ],
   "source": [
    "#string is immutable\n",
    "\n",
    "s = \"python\"\n",
    "s[1] = \"i\""
   ]
  },
  {
   "cell_type": "markdown",
   "metadata": {},
   "source": [
    "Boolean"
   ]
  },
  {
   "cell_type": "code",
   "execution_count": 24,
   "metadata": {},
   "outputs": [
    {
     "name": "stdout",
     "output_type": "stream",
     "text": [
      "False\n",
      "True\n",
      "False\n"
     ]
    }
   ],
   "source": [
    "print(9>91)\n",
    "print(10==10)\n",
    "print(10<9)"
   ]
  },
  {
   "cell_type": "code",
   "execution_count": 27,
   "metadata": {},
   "outputs": [
    {
     "name": "stdout",
     "output_type": "stream",
     "text": [
      "True\n",
      "True\n",
      "False\n"
     ]
    }
   ],
   "source": [
    "print(bool(\"hello\"))\n",
    "print(bool(15))\n",
    "print(bool(15<14))"
   ]
  },
  {
   "cell_type": "code",
   "execution_count": 29,
   "metadata": {},
   "outputs": [
    {
     "name": "stdout",
     "output_type": "stream",
     "text": [
      "False\n",
      "False\n",
      "False\n",
      "False\n",
      "False\n"
     ]
    }
   ],
   "source": [
    "#No value or data\n",
    "print(bool(\"\"))\n",
    "print(bool([]))\n",
    "print(bool(()))\n",
    "print(bool(0))\n",
    "print(bool({}))"
   ]
  },
  {
   "cell_type": "markdown",
   "metadata": {},
   "source": [
    "Operators"
   ]
  },
  {
   "cell_type": "code",
   "execution_count": 31,
   "metadata": {},
   "outputs": [
    {
     "name": "stdout",
     "output_type": "stream",
     "text": [
      "15\n",
      "5\n",
      "2.0\n",
      "0\n",
      "2\n",
      "50\n",
      "100000\n"
     ]
    }
   ],
   "source": [
    "print(10+5)\n",
    "print(10-5)\n",
    "print(10/5)\n",
    "print(10%5)\n",
    "print(10//5)\n",
    "print(10*5)\n",
    "print(10**5)"
   ]
  },
  {
   "cell_type": "markdown",
   "metadata": {},
   "source": [
    "and --> Returns True if both statements are true<br>\n",
    "or -->  Returns True if one of the statements is true<br>\n",
    "not -->  Reverse the result, returns False if the result is true<br>"
   ]
  },
  {
   "cell_type": "code",
   "execution_count": 35,
   "metadata": {},
   "outputs": [
    {
     "name": "stdout",
     "output_type": "stream",
     "text": [
      "6\n",
      "5\n"
     ]
    }
   ],
   "source": [
    "print(5 and 6) #Return the last value is every value exists instead of 0(i.e treated as False)\n",
    "print(5 or 6)  #Return the first value is every value exists"
   ]
  },
  {
   "cell_type": "code",
   "execution_count": 39,
   "metadata": {},
   "outputs": [
    {
     "name": "stdout",
     "output_type": "stream",
     "text": [
      "8\n",
      "urr\n"
     ]
    }
   ],
   "source": [
    "print(\"urr\" and 8 or 0 and \"jdd\")\n",
    "print(\"urr\" or 8 or 0 or \"jdd\")"
   ]
  },
  {
   "cell_type": "markdown",
   "metadata": {},
   "source": [
    "in --> Returns True if a sequence with the specified value is present in the object<br>\n",
    "not in --> Returns True if a sequence with the specified value is not present in the object"
   ]
  },
  {
   "cell_type": "code",
   "execution_count": 8,
   "metadata": {},
   "outputs": [
    {
     "name": "stdout",
     "output_type": "stream",
     "text": [
      "True\n",
      "False\n"
     ]
    }
   ],
   "source": [
    "x = \"You are the creater of your own future\"\n",
    "\n",
    "print(\"creater\" in x)\n",
    "print(\"own\" not in x)"
   ]
  },
  {
   "cell_type": "markdown",
   "metadata": {},
   "source": [
    "- Representing Records\n",
    "1. Lists\n",
    "2. Tuples\n",
    "3. Sets\n",
    "4. Dictionary"
   ]
  },
  {
   "cell_type": "markdown",
   "metadata": {},
   "source": [
    "List"
   ]
  },
  {
   "cell_type": "code",
   "execution_count": 2,
   "metadata": {},
   "outputs": [
    {
     "name": "stdout",
     "output_type": "stream",
     "text": [
      "['Bob Smith', 42, 30000, 'software'] <class 'list'>\n",
      "['Sue Jones', 45, 40000, 'hardware'] <class 'list'>\n"
     ]
    }
   ],
   "source": [
    "bob = ['Bob Smith', 42, 30000, 'software']\n",
    "sue = ['Sue Jones', 45, 40000, 'hardware']\n",
    "\n",
    "print(bob, type(bob))\n",
    "print(sue, type(sue))"
   ]
  },
  {
   "cell_type": "code",
   "execution_count": 3,
   "metadata": {},
   "outputs": [
    {
     "name": "stdout",
     "output_type": "stream",
     "text": [
      "Bob Smith hardware\n"
     ]
    }
   ],
   "source": [
    "#accessing elements in list\n",
    "\n",
    "print(bob[0], sue[3])"
   ]
  },
  {
   "cell_type": "code",
   "execution_count": 5,
   "metadata": {},
   "outputs": [
    {
     "name": "stdout",
     "output_type": "stream",
     "text": [
      "[42, 30000, 'software']\n"
     ]
    }
   ],
   "source": [
    "#slicing in list\n",
    "\n",
    "print(bob[1:5])"
   ]
  },
  {
   "cell_type": "code",
   "execution_count": 7,
   "metadata": {},
   "outputs": [
    {
     "name": "stdout",
     "output_type": "stream",
     "text": [
      "Smith\n"
     ]
    }
   ],
   "source": [
    "#what is bob's last name\n",
    "print(bob[0].split(\" \")[-1])"
   ]
  },
  {
   "cell_type": "code",
   "execution_count": 10,
   "metadata": {},
   "outputs": [],
   "source": [
    "# give sue a 25% raise\n",
    "\n",
    "sue[2] *= 1.25"
   ]
  },
  {
   "cell_type": "code",
   "execution_count": 11,
   "metadata": {},
   "outputs": [
    {
     "data": {
      "text/plain": [
       "['Sue Jones', 45, 62500.0, 'hardware']"
      ]
     },
     "execution_count": 11,
     "metadata": {},
     "output_type": "execute_result"
    }
   ],
   "source": [
    "sue"
   ]
  },
  {
   "cell_type": "code",
   "execution_count": 16,
   "metadata": {},
   "outputs": [
    {
     "data": {
      "text/plain": [
       "[['Bob Smith', 42, 30000, 'software'], ['Sue Jones', 45, 62500.0, 'hardware']]"
      ]
     },
     "execution_count": 16,
     "metadata": {},
     "output_type": "execute_result"
    }
   ],
   "source": [
    "#list constructor\n",
    "\n",
    "people = list((bob, sue))\n",
    "people"
   ]
  },
  {
   "cell_type": "code",
   "execution_count": 18,
   "metadata": {},
   "outputs": [
    {
     "data": {
      "text/plain": [
       "'Bob Smith'"
      ]
     },
     "execution_count": 18,
     "metadata": {},
     "output_type": "execute_result"
    }
   ],
   "source": [
    "people[0][0]"
   ]
  },
  {
   "cell_type": "code",
   "execution_count": 19,
   "metadata": {},
   "outputs": [
    {
     "name": "stdout",
     "output_type": "stream",
     "text": [
      "['Bob Smith', 42, 30000, 'software']\n",
      "['Sue Jones', 45, 62500.0, 'hardware']\n"
     ]
    }
   ],
   "source": [
    "for i in people:\n",
    "    print(i)"
   ]
  },
  {
   "cell_type": "code",
   "execution_count": 23,
   "metadata": {},
   "outputs": [
    {
     "name": "stdout",
     "output_type": "stream",
     "text": [
      "[30000, 62500.0]\n"
     ]
    }
   ],
   "source": [
    "#collect all pay\n",
    "pays = [person[2] for person in people] #list comprehension\n",
    "print(pays)"
   ]
  },
  {
   "cell_type": "code",
   "execution_count": 25,
   "metadata": {},
   "outputs": [
    {
     "name": "stdout",
     "output_type": "stream",
     "text": [
      "[30000, 62500.0]\n"
     ]
    }
   ],
   "source": [
    "# ditto (map is a generator in 3.X)\n",
    "pays = map((lambda x: x[2]), people)\n",
    "print(list(pays))"
   ]
  },
  {
   "cell_type": "code",
   "execution_count": 28,
   "metadata": {},
   "outputs": [
    {
     "data": {
      "text/plain": [
       "92500.0"
      ]
     },
     "execution_count": 28,
     "metadata": {},
     "output_type": "execute_result"
    }
   ],
   "source": [
    "# generator expression, sum built-in\n",
    "sum(person[2] for person in people)"
   ]
  },
  {
   "cell_type": "code",
   "execution_count": 38,
   "metadata": {},
   "outputs": [
    {
     "name": "stdout",
     "output_type": "stream",
     "text": [
      "[['Bob Smith', 42, 30000, 'software'], ['Sue Jones', 45, 62500.0, 'hardware'], ['Tom', 50, 0, None], ['Tom', 50, 0, None]]\n"
     ]
    }
   ],
   "source": [
    "#to add records\n",
    "people.append(['Tom', 50, 0, None])\n",
    "print(people)"
   ]
  },
  {
   "cell_type": "code",
   "execution_count": 30,
   "metadata": {},
   "outputs": [
    {
     "name": "stdout",
     "output_type": "stream",
     "text": [
      "3\n"
     ]
    }
   ],
   "source": [
    "print(len(people))"
   ]
  },
  {
   "cell_type": "code",
   "execution_count": 39,
   "metadata": {},
   "outputs": [
    {
     "name": "stdout",
     "output_type": "stream",
     "text": [
      "['Bob Smith', 42, 30000, 'software', 'Sue Jones', 45, 62500.0, 'hardware', 'Tom', 50, 0, None, 'Tom', 50, 0, None]\n"
     ]
    }
   ],
   "source": [
    "#join two lists into one\n",
    "\n",
    "merge_peoples = []\n",
    "\n",
    "for data in people:\n",
    "    merge_peoples.extend(data)\n",
    "\n",
    "print(merge_peoples)"
   ]
  },
  {
   "cell_type": "code",
   "execution_count": 40,
   "metadata": {},
   "outputs": [
    {
     "name": "stdout",
     "output_type": "stream",
     "text": [
      "[['Bob Smith', 42, 30000, 'software'], ['Sue Jones', 45, 62500.0, 'hardware'], ['Tom', 50, 0, None]]\n"
     ]
    }
   ],
   "source": [
    "#remove record from list\n",
    "people.remove(people[2])\n",
    "print(people)"
   ]
  },
  {
   "cell_type": "code",
   "execution_count": 41,
   "metadata": {},
   "outputs": [
    {
     "name": "stdout",
     "output_type": "stream",
     "text": [
      "['Bob Smith', 42, 30000, 'software', 'Sue Jones', 45, 62500.0, 'hardware', 50, 0, None, 'Tom', 50, 0, None]\n"
     ]
    }
   ],
   "source": [
    "merge_peoples.remove('Tom')\n",
    "print(merge_peoples)"
   ]
  },
  {
   "cell_type": "code",
   "execution_count": 52,
   "metadata": {},
   "outputs": [
    {
     "name": "stdout",
     "output_type": "stream",
     "text": [
      "['Bob Smith', 42, 30000, 'software', 'Sue Jones', 45, 62500.0, 'hardware', 50, 0, None, 'Tom', 50, 0, 50000]\n"
     ]
    }
   ],
   "source": [
    "#list is mutable\n",
    "\n",
    "merge_peoples[-1] = 50000\n",
    "print(merge_peoples)"
   ]
  },
  {
   "cell_type": "code",
   "execution_count": 53,
   "metadata": {},
   "outputs": [
    {
     "name": "stdout",
     "output_type": "stream",
     "text": [
      "['Bob Smith', 42, 'newInsert', 30000, 'software', 'Sue Jones', 45, 62500.0, 'hardware', 50, 0, None, 'Tom', 50, 0, 50000]\n"
     ]
    }
   ],
   "source": [
    "#add a value in any position\n",
    "\n",
    "merge_peoples.insert(2, \"newInsert\")\n",
    "print(merge_peoples)"
   ]
  },
  {
   "cell_type": "code",
   "execution_count": 55,
   "metadata": {},
   "outputs": [
    {
     "name": "stdout",
     "output_type": "stream",
     "text": [
      "[10, 40, 100, 110]\n"
     ]
    }
   ],
   "source": [
    "#sort list\n",
    "x = [100, 40, 10, 110]\n",
    "x.sort()\n",
    "print(x)"
   ]
  },
  {
   "cell_type": "code",
   "execution_count": 56,
   "metadata": {},
   "outputs": [
    {
     "name": "stdout",
     "output_type": "stream",
     "text": [
      "[110, 100, 40, 10]\n"
     ]
    }
   ],
   "source": [
    "x.sort(reverse=True)\n",
    "print(x)"
   ]
  },
  {
   "cell_type": "code",
   "execution_count": 60,
   "metadata": {},
   "outputs": [
    {
     "name": "stdout",
     "output_type": "stream",
     "text": [
      "['aDam', 'chris', 'Jack', 'joHn']\n"
     ]
    }
   ],
   "source": [
    "#sort in lower to upper\n",
    "\n",
    "persons = [\"Jack\", \"aDam\", \"joHn\", \"chris\"]\n",
    "persons.sort(key=str.lower)\n",
    "print(persons)"
   ]
  },
  {
   "cell_type": "code",
   "execution_count": 61,
   "metadata": {},
   "outputs": [
    {
     "name": "stdout",
     "output_type": "stream",
     "text": [
      "['joHn', 'Jack', 'chris', 'aDam']\n"
     ]
    }
   ],
   "source": [
    "#reverse a list\n",
    "persons.reverse()\n",
    "print(persons)"
   ]
  },
  {
   "cell_type": "code",
   "execution_count": 62,
   "metadata": {},
   "outputs": [
    {
     "name": "stdout",
     "output_type": "stream",
     "text": [
      "['joHn', 'Jack', 'chris', 'aDam']\n"
     ]
    }
   ],
   "source": [
    "#copy a list\n",
    "y = persons.copy()\n",
    "print(y)"
   ]
  },
  {
   "cell_type": "markdown",
   "metadata": {},
   "source": [
    "Tuples"
   ]
  },
  {
   "cell_type": "code",
   "execution_count": 64,
   "metadata": {},
   "outputs": [
    {
     "name": "stdout",
     "output_type": "stream",
     "text": [
      "('jack', 'john', 'stark') <class 'tuple'>\n"
     ]
    }
   ],
   "source": [
    "tuple_val = (\"jack\", \"john\", \"stark\")\n",
    "print(tuple_val, type(tuple_val))"
   ]
  },
  {
   "cell_type": "code",
   "execution_count": 66,
   "metadata": {},
   "outputs": [
    {
     "name": "stdout",
     "output_type": "stream",
     "text": [
      "('Messi', 'Jack', 'chris', 'aDam')\n"
     ]
    }
   ],
   "source": [
    "#make list to tuple\n",
    "print(tuple(persons))"
   ]
  },
  {
   "cell_type": "code",
   "execution_count": 72,
   "metadata": {},
   "outputs": [
    {
     "name": "stdout",
     "output_type": "stream",
     "text": [
      "stark\n",
      "john\n",
      "('john', 'stark')\n"
     ]
    }
   ],
   "source": [
    "print(tuple_val[2])\n",
    "print(tuple_val[-2])\n",
    "print(tuple_val[1:])"
   ]
  },
  {
   "cell_type": "code",
   "execution_count": 68,
   "metadata": {},
   "outputs": [
    {
     "name": "stdout",
     "output_type": "stream",
     "text": [
      "3\n"
     ]
    }
   ],
   "source": [
    "print(len(tuple_val))"
   ]
  },
  {
   "cell_type": "code",
   "execution_count": 69,
   "metadata": {},
   "outputs": [
    {
     "ename": "TypeError",
     "evalue": "'tuple' object does not support item assignment",
     "output_type": "error",
     "traceback": [
      "\u001b[1;31m---------------------------------------------------------------------------\u001b[0m",
      "\u001b[1;31mTypeError\u001b[0m                                 Traceback (most recent call last)",
      "\u001b[1;32m<ipython-input-69-5023454df544>\u001b[0m in \u001b[0;36m<module>\u001b[1;34m\u001b[0m\n\u001b[0;32m      1\u001b[0m \u001b[1;31m#tuple are immutable\u001b[0m\u001b[1;33m\u001b[0m\u001b[1;33m\u001b[0m\u001b[1;33m\u001b[0m\u001b[0m\n\u001b[1;32m----> 2\u001b[1;33m \u001b[0mtuple_val\u001b[0m\u001b[1;33m[\u001b[0m\u001b[1;36m1\u001b[0m\u001b[1;33m]\u001b[0m \u001b[1;33m=\u001b[0m \u001b[1;34m\"Robert\"\u001b[0m\u001b[1;33m\u001b[0m\u001b[1;33m\u001b[0m\u001b[0m\n\u001b[0m",
      "\u001b[1;31mTypeError\u001b[0m: 'tuple' object does not support item assignment"
     ]
    }
   ],
   "source": [
    "#tuple are immutable\n",
    "tuple_val[1] = \"Robert\""
   ]
  },
  {
   "cell_type": "code",
   "execution_count": 74,
   "metadata": {},
   "outputs": [
    {
     "name": "stdout",
     "output_type": "stream",
     "text": [
      "('jack', 'john', 'stark', 'chris')\n"
     ]
    }
   ],
   "source": [
    "#add item in tuple\n",
    "# tuple_val+=(\"chris\")\n",
    "tuple_val+=(\"chris\",)\n",
    "print(tuple_val)"
   ]
  },
  {
   "cell_type": "code",
   "execution_count": 76,
   "metadata": {},
   "outputs": [
    {
     "name": "stdout",
     "output_type": "stream",
     "text": [
      "jack john stark chris\n"
     ]
    }
   ],
   "source": [
    "#unpack tuple\n",
    "\n",
    "red, green, blue, black = tuple_val #we can do same for list\n",
    "print(red, green, blue, black)"
   ]
  },
  {
   "cell_type": "code",
   "execution_count": 77,
   "metadata": {},
   "outputs": [
    {
     "name": "stdout",
     "output_type": "stream",
     "text": [
      "jack john\n",
      "['stark', 'chris']\n"
     ]
    }
   ],
   "source": [
    "#using *(Asterick)\n",
    "\n",
    "red, green, *black = tuple_val\n",
    "print(red, green)\n",
    "print(black)"
   ]
  },
  {
   "cell_type": "code",
   "execution_count": 78,
   "metadata": {},
   "outputs": [
    {
     "name": "stdout",
     "output_type": "stream",
     "text": [
      "jack\n",
      "john\n",
      "stark\n",
      "chris\n"
     ]
    }
   ],
   "source": [
    "#looping in tuple\n",
    "\n",
    "for i in tuple_val:\n",
    "    print(i)"
   ]
  },
  {
   "cell_type": "code",
   "execution_count": 79,
   "metadata": {},
   "outputs": [
    {
     "name": "stdout",
     "output_type": "stream",
     "text": [
      "jack\n",
      "john\n",
      "stark\n",
      "chris\n"
     ]
    }
   ],
   "source": [
    "for i in range(len(tuple_val)):\n",
    "    print(tuple_val[i])"
   ]
  },
  {
   "cell_type": "markdown",
   "metadata": {},
   "source": [
    "Sets"
   ]
  },
  {
   "cell_type": "code",
   "execution_count": 80,
   "metadata": {},
   "outputs": [
    {
     "name": "stdout",
     "output_type": "stream",
     "text": [
      "{'john', 10, 'jack'}\n"
     ]
    }
   ],
   "source": [
    "set_val = {\"jack\", \"john\", 10}\n",
    "print(set_val)"
   ]
  },
  {
   "cell_type": "code",
   "execution_count": 81,
   "metadata": {},
   "outputs": [
    {
     "name": "stdout",
     "output_type": "stream",
     "text": [
      "{'cat', 'john', 10, 'jack'}\n"
     ]
    }
   ],
   "source": [
    "set_val = {\"jack\", \"john\", 10, 10, 10, \"cat\", \"john\"}\n",
    "print(set_val)"
   ]
  },
  {
   "cell_type": "code",
   "execution_count": 82,
   "metadata": {},
   "outputs": [
    {
     "name": "stdout",
     "output_type": "stream",
     "text": [
      "cat\n",
      "john\n",
      "10\n",
      "jack\n"
     ]
    }
   ],
   "source": [
    "for i in set_val:\n",
    "    print(i)"
   ]
  },
  {
   "cell_type": "code",
   "execution_count": 83,
   "metadata": {},
   "outputs": [
    {
     "name": "stdout",
     "output_type": "stream",
     "text": [
      "{'cat', 10, 'jack', 'chris', 'john'}\n"
     ]
    }
   ],
   "source": [
    "#Adding items\n",
    "\n",
    "set_val.add(\"chris\")\n",
    "print(set_val)"
   ]
  },
  {
   "cell_type": "code",
   "execution_count": 84,
   "metadata": {},
   "outputs": [
    {
     "name": "stdout",
     "output_type": "stream",
     "text": [
      "{'cat', 1, 4, 9, 10, 'jack', 'chris', 'john'}\n"
     ]
    }
   ],
   "source": [
    "# adding set and list\n",
    "\n",
    "list1 = [1,4,9]\n",
    "set1 = {\"apple\", \"mango\"}\n",
    "\n",
    "set_val.update(list1)\n",
    "print(set_val)"
   ]
  },
  {
   "cell_type": "code",
   "execution_count": 85,
   "metadata": {},
   "outputs": [
    {
     "name": "stdout",
     "output_type": "stream",
     "text": [
      "{'cat', 1, 4, 9, 10, 'apple', 'jack', 'chris', 'mango', 'john'}\n"
     ]
    }
   ],
   "source": [
    "set_val.update(set1)\n",
    "print(set_val)"
   ]
  },
  {
   "cell_type": "code",
   "execution_count": 86,
   "metadata": {},
   "outputs": [
    {
     "name": "stdout",
     "output_type": "stream",
     "text": [
      "{1, 4, 9}\n"
     ]
    }
   ],
   "source": [
    "#type casting\n",
    "\n",
    "print(set(list1))"
   ]
  },
  {
   "cell_type": "code",
   "execution_count": 87,
   "metadata": {},
   "outputs": [
    {
     "name": "stdout",
     "output_type": "stream",
     "text": [
      "{'cat', 1, 4, 9, 10, 'apple', 'jack', 'chris', 'mango'}\n"
     ]
    }
   ],
   "source": [
    "#remove items\n",
    "\n",
    "set_val.remove(\"john\")\n",
    "print(set_val)"
   ]
  },
  {
   "cell_type": "code",
   "execution_count": 88,
   "metadata": {},
   "outputs": [
    {
     "name": "stdout",
     "output_type": "stream",
     "text": [
      "{'cat', 1, 4, 9, 10, 'jack', 'chris', 'mango'}\n"
     ]
    }
   ],
   "source": [
    "set_val.discard(\"apple\")\n",
    "print(set_val)"
   ]
  },
  {
   "cell_type": "code",
   "execution_count": 90,
   "metadata": {},
   "outputs": [
    {
     "name": "stdout",
     "output_type": "stream",
     "text": [
      "{4, 9, 10, 'jack', 'chris', 'mango'}\n"
     ]
    }
   ],
   "source": [
    "set_val.pop() #remove first position element\n",
    "print(set_val)"
   ]
  },
  {
   "cell_type": "code",
   "execution_count": 91,
   "metadata": {},
   "outputs": [
    {
     "name": "stdout",
     "output_type": "stream",
     "text": [
      "set()\n"
     ]
    }
   ],
   "source": [
    "set_val.clear()\n",
    "print(set_val)"
   ]
  },
  {
   "cell_type": "markdown",
   "metadata": {},
   "source": [
    "Union\n",
    "\n",
    "![title](Union1.png)\n"
   ]
  },
  {
   "cell_type": "code",
   "execution_count": 94,
   "metadata": {},
   "outputs": [
    {
     "name": "stdout",
     "output_type": "stream",
     "text": [
      "{1, 2, 3, 5, 8, 10}\n"
     ]
    }
   ],
   "source": [
    "# set concepts\n",
    "\n",
    "#Union\n",
    "\n",
    "A = {1,2,3,5,10}\n",
    "B = {8, 10}\n",
    "\n",
    "S = A.union(B)\n",
    "print(S)"
   ]
  },
  {
   "cell_type": "markdown",
   "metadata": {},
   "source": [
    "Intersection\n",
    "\n",
    "![title](Intersection.png)"
   ]
  },
  {
   "cell_type": "code",
   "execution_count": 96,
   "metadata": {},
   "outputs": [
    {
     "name": "stdout",
     "output_type": "stream",
     "text": [
      "{10}\n"
     ]
    }
   ],
   "source": [
    "#Intersection\n",
    "\n",
    "S = A.intersection(B)\n",
    "print(S)"
   ]
  },
  {
   "cell_type": "code",
   "execution_count": 98,
   "metadata": {},
   "outputs": [
    {
     "name": "stdout",
     "output_type": "stream",
     "text": [
      "{1, 2, 3, 5, 8}\n"
     ]
    }
   ],
   "source": [
    "#symmetric difference\n",
    "\n",
    "S = A.symmetric_difference(B)\n",
    "print(S)"
   ]
  },
  {
   "cell_type": "markdown",
   "metadata": {},
   "source": [
    "Dictionary<br>\n",
    "- Dictionaries are used to store data is key value paired\n",
    "- It is ordered, changeable and do not allow duplicates"
   ]
  },
  {
   "cell_type": "code",
   "execution_count": 100,
   "metadata": {},
   "outputs": [],
   "source": [
    "John = {'name': 'John Smith', 'age': 40, 'pay': 45903, 'job': 'software'}\n",
    "Chris = {'name': 'Chris Adams', 'age': 39, 'pay': 59104, 'job': 'hardware'}"
   ]
  },
  {
   "cell_type": "code",
   "execution_count": 111,
   "metadata": {},
   "outputs": [
    {
     "name": "stdout",
     "output_type": "stream",
     "text": [
      "{'name': 'John Smith', 'age': 56, 'pay': 45903, 'job': 'software'} <class 'dict'>\n",
      "{'name': 'Chris Adams', 'age': 39, 'pay': 59104, 'job': 'hardware'} <class 'dict'>\n"
     ]
    }
   ],
   "source": [
    "print(John, type(John))\n",
    "print(Chris, type(Chris))"
   ]
  },
  {
   "cell_type": "markdown",
   "metadata": {},
   "source": [
    "Note: In each dictinary left-side are called keys and right-side are called values"
   ]
  },
  {
   "cell_type": "code",
   "execution_count": 103,
   "metadata": {},
   "outputs": [
    {
     "name": "stdout",
     "output_type": "stream",
     "text": [
      "John Smith 45903 Chris Adams 59104\n"
     ]
    }
   ],
   "source": [
    "#accessing values in dict\n",
    "\n",
    "print(John[\"name\"], John[\"pay\"], Chris[\"name\"], Chris[\"pay\"])"
   ]
  },
  {
   "cell_type": "code",
   "execution_count": 104,
   "metadata": {},
   "outputs": [
    {
     "name": "stdout",
     "output_type": "stream",
     "text": [
      "4\n"
     ]
    }
   ],
   "source": [
    "#dict length\n",
    "\n",
    "print(len(John))"
   ]
  },
  {
   "cell_type": "code",
   "execution_count": 108,
   "metadata": {},
   "outputs": [],
   "source": [
    "#Duplicates are not allowed\n",
    "John = {'name': 'John Smith', 'age': 40, 'pay': 45903, 'job': 'software', \"age\": 56}"
   ]
  },
  {
   "cell_type": "code",
   "execution_count": 109,
   "metadata": {},
   "outputs": [
    {
     "data": {
      "text/plain": [
       "{'name': 'John Smith', 'age': 56, 'pay': 45903, 'job': 'software'}"
      ]
     },
     "execution_count": 109,
     "metadata": {},
     "output_type": "execute_result"
    }
   ],
   "source": [
    "John"
   ]
  },
  {
   "cell_type": "code",
   "execution_count": 110,
   "metadata": {},
   "outputs": [
    {
     "data": {
      "text/plain": [
       "'John'"
      ]
     },
     "execution_count": 110,
     "metadata": {},
     "output_type": "execute_result"
    }
   ],
   "source": [
    "John[\"name\"].split(\" \")[0]"
   ]
  },
  {
   "cell_type": "code",
   "execution_count": 112,
   "metadata": {},
   "outputs": [
    {
     "name": "stdout",
     "output_type": "stream",
     "text": [
      "Chris Adams\n"
     ]
    }
   ],
   "source": [
    "#we can also use get\n",
    "print(Chris.get(\"name\"))"
   ]
  },
  {
   "cell_type": "code",
   "execution_count": 113,
   "metadata": {},
   "outputs": [
    {
     "name": "stdout",
     "output_type": "stream",
     "text": [
      "dict_keys(['name', 'age', 'pay', 'job'])\n"
     ]
    }
   ],
   "source": [
    "#print all keys\n",
    "print(Chris.keys())"
   ]
  },
  {
   "cell_type": "code",
   "execution_count": 114,
   "metadata": {},
   "outputs": [
    {
     "name": "stdout",
     "output_type": "stream",
     "text": [
      "dict_values(['Chris Adams', 39, 59104, 'hardware'])\n"
     ]
    }
   ],
   "source": [
    "#print all values\n",
    "print(Chris.values())"
   ]
  },
  {
   "cell_type": "code",
   "execution_count": 115,
   "metadata": {},
   "outputs": [
    {
     "name": "stdout",
     "output_type": "stream",
     "text": [
      "{'name': 'Chris Adams', 'age': 39, 'pay': 59104, 'job': 'hardware', 'countriesVisited': ['India', 'USA', 'Algeria']}\n"
     ]
    }
   ],
   "source": [
    "#add data is dict\n",
    "\n",
    "Chris[\"countriesVisited\"] = [\"India\", \"USA\", \"Algeria\"]\n",
    "print(Chris)"
   ]
  },
  {
   "cell_type": "code",
   "execution_count": 116,
   "metadata": {},
   "outputs": [
    {
     "name": "stdout",
     "output_type": "stream",
     "text": [
      "name ---> Chris Adams\n",
      "age ---> 39\n",
      "pay ---> 59104\n",
      "job ---> hardware\n",
      "countriesVisited ---> ['India', 'USA', 'Algeria']\n"
     ]
    }
   ],
   "source": [
    "for key, value in Chris.items():\n",
    "    print(\"{} ---> {}\".format(key, value))"
   ]
  },
  {
   "cell_type": "code",
   "execution_count": 118,
   "metadata": {},
   "outputs": [
    {
     "name": "stdout",
     "output_type": "stream",
     "text": [
      "{'name': 'Chris Adams', 'age': 39, 'pay': 59104, 'job': 'Developer', 'countriesVisited': ['India', 'USA', 'Algeria']}\n"
     ]
    }
   ],
   "source": [
    "#change values\n",
    "\n",
    "Chris[\"job\"] = \"Developer\"\n",
    "print(Chris)"
   ]
  },
  {
   "cell_type": "code",
   "execution_count": 119,
   "metadata": {},
   "outputs": [
    {
     "name": "stdout",
     "output_type": "stream",
     "text": [
      "{'name': 'Chris Adams', 'age': 41, 'pay': 59104, 'job': 'Developer', 'countriesVisited': ['India', 'USA', 'Algeria']}\n"
     ]
    }
   ],
   "source": [
    "#we can also use update\n",
    "\n",
    "Chris.update({\"age\": 41})\n",
    "print(Chris)"
   ]
  },
  {
   "cell_type": "code",
   "execution_count": 120,
   "metadata": {},
   "outputs": [
    {
     "name": "stdout",
     "output_type": "stream",
     "text": [
      "{'name': 'Chris Adams', 'age': 41, 'pay': 59104, 'countriesVisited': ['India', 'USA', 'Algeria']}\n"
     ]
    }
   ],
   "source": [
    "#Remove items\n",
    "Chris.pop(\"job\")\n",
    "print(Chris)"
   ]
  },
  {
   "cell_type": "code",
   "execution_count": 121,
   "metadata": {},
   "outputs": [
    {
     "name": "stdout",
     "output_type": "stream",
     "text": [
      "{'name': 'Chris Adams', 'age': 41, 'pay': 59104}\n"
     ]
    }
   ],
   "source": [
    "Chris.popitem()\n",
    "print(Chris)"
   ]
  },
  {
   "cell_type": "code",
   "execution_count": 122,
   "metadata": {},
   "outputs": [
    {
     "name": "stdout",
     "output_type": "stream",
     "text": [
      "{}\n"
     ]
    }
   ],
   "source": [
    "#delete dict\n",
    "\n",
    "Chris.clear()\n",
    "print(Chris)"
   ]
  },
  {
   "cell_type": "code",
   "execution_count": 124,
   "metadata": {},
   "outputs": [
    {
     "name": "stdout",
     "output_type": "stream",
     "text": [
      "{'Movie1': {'actor': 'Tobey Maguire', 'age': 46}, 'Movie2': {'actor': 'Andrew Garfield', 'age': 38}, 'Movie3': {'actor': 'Tom Holland', 'age': 25}}\n"
     ]
    }
   ],
   "source": [
    "#Nested Dict\n",
    "\n",
    "SpiderManMovies = {\n",
    "    \"Movie1\": {\n",
    "        \"actor\": \"Tobey Maguire\",\n",
    "        \"age\": 46\n",
    "    },\n",
    "    \"Movie2\": {\n",
    "        \"actor\": \"Andrew Garfield\",\n",
    "        \"age\": 38\n",
    "    },\n",
    "    \"Movie3\": {\n",
    "        \"actor\": \"Tom Holland\",\n",
    "        \"age\": 25\n",
    "    }\n",
    "}\n",
    "\n",
    "print(SpiderManMovies)"
   ]
  },
  {
   "cell_type": "code",
   "execution_count": 126,
   "metadata": {},
   "outputs": [
    {
     "name": "stdout",
     "output_type": "stream",
     "text": [
      "{'actor': 'Tobey Maguire', 'age': 46}\n",
      "{'actor': 'Andrew Garfield', 'age': 38}\n",
      "{'actor': 'Tom Holland', 'age': 25}\n"
     ]
    }
   ],
   "source": [
    "for i in SpiderManMovies:\n",
    "    print(SpiderManMovies[i])"
   ]
  },
  {
   "cell_type": "code",
   "execution_count": 127,
   "metadata": {},
   "outputs": [
    {
     "data": {
      "text/plain": [
       "{'name': 'Tom', 'age': 25, 'role': 'Spiderman'}"
      ]
     },
     "execution_count": 127,
     "metadata": {},
     "output_type": "execute_result"
    }
   ],
   "source": [
    "dict(name=\"Tom\", age=25, role=\"Spiderman\")"
   ]
  },
  {
   "cell_type": "markdown",
   "metadata": {},
   "source": [
    "#### Array\n",
    "\n",
    "- An array is a collection of items stored at contiguous memory locations. \n",
    "- List can be treated as an array"
   ]
  },
  {
   "cell_type": "code",
   "execution_count": 1,
   "metadata": {},
   "outputs": [
    {
     "name": "stdout",
     "output_type": "stream",
     "text": [
      "array('i', [1, 2, 3]) <class 'array.array'>\n"
     ]
    }
   ],
   "source": [
    "#to implement arry we need to import a python module\n",
    "\n",
    "import array as arr\n",
    "\n",
    "x = arr.array('i', [1, 2, 3])\n",
    "print(x, type(x))"
   ]
  },
  {
   "cell_type": "code",
   "execution_count": 2,
   "metadata": {},
   "outputs": [
    {
     "name": "stdout",
     "output_type": "stream",
     "text": [
      "1\n",
      "2\n",
      "3\n"
     ]
    }
   ],
   "source": [
    "for i in range(len(x)):\n",
    "    print(x[i])"
   ]
  }
 ],
 "metadata": {
  "kernelspec": {
   "display_name": "Python 3",
   "language": "python",
   "name": "python3"
  },
  "language_info": {
   "codemirror_mode": {
    "name": "ipython",
    "version": 3
   },
   "file_extension": ".py",
   "mimetype": "text/x-python",
   "name": "python",
   "nbconvert_exporter": "python",
   "pygments_lexer": "ipython3",
   "version": "3.7.7"
  }
 },
 "nbformat": 4,
 "nbformat_minor": 4
}
