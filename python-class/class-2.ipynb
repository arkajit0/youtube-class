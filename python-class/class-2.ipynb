{
 "cells": [
  {
   "cell_type": "markdown",
   "metadata": {},
   "source": [
    "## Conditions and Statements\n",
    "\n",
    "###### Mathematical operations supported by python\n",
    "\n",
    "- Equals: a==b\n",
    "- Not Equal: a!=b\n",
    "- Greater Than: a>b\n",
    "- Greater than Equal to: a>=b\n",
    "- Less than: a<b\n",
    "- Less than equal to: a<=b"
   ]
  },
  {
   "cell_type": "markdown",
   "metadata": {},
   "source": [
    "If-else Statement"
   ]
  },
  {
   "cell_type": "code",
   "execution_count": 1,
   "metadata": {},
   "outputs": [],
   "source": [
    "A = \"apple\"\n",
    "B = \"mango\"\n",
    "\n",
    "if A==B:\n",
    "    print(\"A and B are same\")"
   ]
  },
  {
   "cell_type": "code",
   "execution_count": 2,
   "metadata": {},
   "outputs": [
    {
     "name": "stdout",
     "output_type": "stream",
     "text": [
      "A and B are not same\n"
     ]
    }
   ],
   "source": [
    "A = \"apple\"\n",
    "B = \"mango\"\n",
    "\n",
    "if A==B:\n",
    "    print(\"A and B are same\")\n",
    "else:\n",
    "    print(\"A and B are not same\")"
   ]
  },
  {
   "cell_type": "markdown",
   "metadata": {},
   "source": [
    "Elif ---> else if"
   ]
  },
  {
   "cell_type": "code",
   "execution_count": 5,
   "metadata": {},
   "outputs": [
    {
     "name": "stdout",
     "output_type": "stream",
     "text": [
      "A is equal to B\n"
     ]
    }
   ],
   "source": [
    "A = 10\n",
    "B = 10\n",
    "\n",
    "if A>B:\n",
    "    print(\"A is greater than B\")\n",
    "elif A==B:\n",
    "    print(\"A is equal to B\")\n",
    "else:\n",
    "    print(\"A is less than B\")"
   ]
  },
  {
   "cell_type": "markdown",
   "metadata": {},
   "source": [
    "Short Hand"
   ]
  },
  {
   "cell_type": "code",
   "execution_count": 7,
   "metadata": {},
   "outputs": [
    {
     "name": "stdout",
     "output_type": "stream",
     "text": [
      "100\n"
     ]
    }
   ],
   "source": [
    "A = 100\n",
    "B = 200\n",
    "\n",
    "print(A) if A<B else print(B)"
   ]
  },
  {
   "cell_type": "code",
   "execution_count": 10,
   "metadata": {},
   "outputs": [
    {
     "name": "stdout",
     "output_type": "stream",
     "text": [
      "100\n"
     ]
    }
   ],
   "source": [
    "A = 100\n",
    "B = 200\n",
    "\n",
    "if A<B: print(A) "
   ]
  },
  {
   "cell_type": "code",
   "execution_count": 11,
   "metadata": {},
   "outputs": [
    {
     "name": "stdout",
     "output_type": "stream",
     "text": [
      "200\n"
     ]
    }
   ],
   "source": [
    "#Multi statement\n",
    "\n",
    "print(A) if A>B else print(B) if A<B else print(\"neither\")"
   ]
  },
  {
   "cell_type": "code",
   "execution_count": 18,
   "metadata": {},
   "outputs": [
    {
     "name": "stdout",
     "output_type": "stream",
     "text": [
      "Matched\n"
     ]
    }
   ],
   "source": [
    "A = 10\n",
    "B = 10\n",
    "\n",
    "if A>=B:\n",
    "    print(\"Matched\")"
   ]
  },
  {
   "cell_type": "markdown",
   "metadata": {},
   "source": [
    "Logical Operators"
   ]
  },
  {
   "cell_type": "code",
   "execution_count": 12,
   "metadata": {},
   "outputs": [
    {
     "name": "stdout",
     "output_type": "stream",
     "text": [
      "10\n"
     ]
    }
   ],
   "source": [
    "x = 2\n",
    "y = 5\n",
    "z = 10\n",
    "\n",
    "if x<z and y<z:\n",
    "    print(z)"
   ]
  },
  {
   "cell_type": "code",
   "execution_count": 16,
   "metadata": {},
   "outputs": [
    {
     "name": "stdout",
     "output_type": "stream",
     "text": [
      "10\n"
     ]
    }
   ],
   "source": [
    "if x>z or y<z:\n",
    "    print(z)"
   ]
  },
  {
   "cell_type": "code",
   "execution_count": 15,
   "metadata": {},
   "outputs": [
    {
     "name": "stdout",
     "output_type": "stream",
     "text": [
      "True and True = True\n",
      "True and False = False\n",
      "False and True = False\n",
      "False and False = False\n",
      "True or True = True\n",
      "True or False = True\n",
      "False or True = True\n",
      "False or False = False\n"
     ]
    }
   ],
   "source": [
    "#Remember\n",
    "#For And\n",
    "print(\"True and True = {}\".format(True and True))\n",
    "print(\"True and False = {}\".format(True and False))\n",
    "print(\"False and True = {}\".format(False and True))\n",
    "print(\"False and False = {}\".format(False and False))\n",
    "\n",
    "#For OR\n",
    "print(\"True or True = {}\".format(True or True))\n",
    "print(\"True or False = {}\".format(True or False))\n",
    "print(\"False or True = {}\".format(False or True))\n",
    "print(\"False or False = {}\".format(False or False))\n"
   ]
  },
  {
   "cell_type": "markdown",
   "metadata": {},
   "source": [
    "Nested If-else"
   ]
  },
  {
   "cell_type": "code",
   "execution_count": 4,
   "metadata": {},
   "outputs": [
    {
     "name": "stdout",
     "output_type": "stream",
     "text": [
      "a is greater than 30\n",
      "a is greater than 60\n",
      "a is greater than 80\n"
     ]
    }
   ],
   "source": [
    "a = 100\n",
    "\n",
    "if a>30:\n",
    "    print(\"a is greater than 30\")\n",
    "    if a>60:\n",
    "        print(\"a is greater than 60\")\n",
    "        if a>80:\n",
    "            print(\"a is greater than 80\")\n",
    "        else:\n",
    "            print(\"a is less than 80\")\n",
    "    else:\n",
    "        print(\"a is less than 60\")\n",
    "else:\n",
    "    print(\"a is less than 30\")"
   ]
  },
  {
   "cell_type": "markdown",
   "metadata": {},
   "source": [
    "Pass statement<br>\n",
    "If you dont want to do anything inside a condition"
   ]
  },
  {
   "cell_type": "code",
   "execution_count": 17,
   "metadata": {},
   "outputs": [],
   "source": [
    "if 5>3:\n",
    "    pass"
   ]
  },
  {
   "cell_type": "markdown",
   "metadata": {},
   "source": [
    "## Loops"
   ]
  },
  {
   "cell_type": "markdown",
   "metadata": {},
   "source": [
    "while-loop<br>\n",
    "With while statement we can execute a set of statement as long as the condition is true"
   ]
  },
  {
   "cell_type": "code",
   "execution_count": 21,
   "metadata": {},
   "outputs": [
    {
     "name": "stdout",
     "output_type": "stream",
     "text": [
      "1\n",
      "2\n",
      "3\n",
      "4\n",
      "5\n",
      "6\n",
      "7\n",
      "8\n",
      "9\n"
     ]
    }
   ],
   "source": [
    "x = 1\n",
    "\n",
    "while x<10:\n",
    "    print(x)\n",
    "    x += 1 #updating x at each iteration"
   ]
  },
  {
   "cell_type": "markdown",
   "metadata": {},
   "source": [
    "Now sometimes we want to stop execution if certain condition matches<br>\n",
    "<br>\n",
    "Break"
   ]
  },
  {
   "cell_type": "code",
   "execution_count": 23,
   "metadata": {},
   "outputs": [
    {
     "name": "stdout",
     "output_type": "stream",
     "text": [
      "1\n",
      "2\n",
      "3\n",
      "4\n",
      "5\n",
      "stop execution, x=6\n"
     ]
    }
   ],
   "source": [
    "x = 1\n",
    "\n",
    "while x<10:\n",
    "    if x==6:\n",
    "        print(\"stop execution, x={}\".format(x))\n",
    "        break #breaking out of loop\n",
    "    print(x)\n",
    "    x += 1 #updating x at each iteration"
   ]
  },
  {
   "cell_type": "markdown",
   "metadata": {},
   "source": [
    "Continue"
   ]
  },
  {
   "cell_type": "code",
   "execution_count": 28,
   "metadata": {},
   "outputs": [
    {
     "name": "stdout",
     "output_type": "stream",
     "text": [
      "2\n",
      "3\n",
      "4\n",
      "5\n",
      "7\n",
      "8\n",
      "9\n",
      "10\n"
     ]
    }
   ],
   "source": [
    "x = 1\n",
    "\n",
    "while x<10:\n",
    "    x += 1 #updating x at each iteration\n",
    "    if x==6:\n",
    "#         print(\"stop execution, x={}\".format(x))\n",
    "        continue #continue with the next iteration\n",
    "    print(x)\n",
    "    "
   ]
  },
  {
   "cell_type": "markdown",
   "metadata": {},
   "source": [
    "While-else"
   ]
  },
  {
   "cell_type": "code",
   "execution_count": 29,
   "metadata": {},
   "outputs": [
    {
     "name": "stdout",
     "output_type": "stream",
     "text": [
      "2\n",
      "3\n",
      "4\n",
      "5\n",
      "7\n",
      "8\n",
      "9\n",
      "10\n",
      "value of x is 10\n"
     ]
    }
   ],
   "source": [
    "x = 1\n",
    "\n",
    "while x<10:\n",
    "    x += 1 #updating x at each iteration\n",
    "    if x==6:\n",
    "#         print(\"stop execution, x={}\".format(x))\n",
    "        continue #continue with the next iteration\n",
    "    print(x)\n",
    "else:\n",
    "    print(\"value of x is {}\".format(x))"
   ]
  },
  {
   "cell_type": "markdown",
   "metadata": {},
   "source": [
    "For-Loop"
   ]
  },
  {
   "cell_type": "code",
   "execution_count": 2,
   "metadata": {},
   "outputs": [
    {
     "name": "stdout",
     "output_type": "stream",
     "text": [
      "John\n",
      "Mike\n",
      "Adam\n",
      "Tom\n"
     ]
    }
   ],
   "source": [
    "x = [\"John\", \"Mike\", \"Adam\", \"Tom\"]\n",
    "\n",
    "for i in x:\n",
    "    print(i)"
   ]
  },
  {
   "cell_type": "code",
   "execution_count": 3,
   "metadata": {},
   "outputs": [
    {
     "name": "stdout",
     "output_type": "stream",
     "text": [
      "J\n",
      "o\n",
      "h\n",
      "n\n"
     ]
    }
   ],
   "source": [
    "for i in x[0]:\n",
    "    print(i)"
   ]
  },
  {
   "cell_type": "code",
   "execution_count": 4,
   "metadata": {},
   "outputs": [
    {
     "name": "stdout",
     "output_type": "stream",
     "text": [
      "John\n",
      "Mike\n"
     ]
    }
   ],
   "source": [
    "#break\n",
    "\n",
    "for i in x:\n",
    "    if i == \"Adam\":\n",
    "        break\n",
    "    print(i)"
   ]
  },
  {
   "cell_type": "code",
   "execution_count": 5,
   "metadata": {},
   "outputs": [
    {
     "name": "stdout",
     "output_type": "stream",
     "text": [
      "John\n",
      "Mike\n",
      "Tom\n"
     ]
    }
   ],
   "source": [
    "#continue\n",
    "\n",
    "for i in x:\n",
    "    if i==\"Adam\":\n",
    "        continue\n",
    "    print(i)"
   ]
  },
  {
   "cell_type": "code",
   "execution_count": 6,
   "metadata": {},
   "outputs": [
    {
     "name": "stdout",
     "output_type": "stream",
     "text": [
      "0\n",
      "1\n",
      "2\n",
      "3\n",
      "4\n",
      "5\n"
     ]
    }
   ],
   "source": [
    "for i in range(6):\n",
    "    print(i)"
   ]
  },
  {
   "cell_type": "code",
   "execution_count": 7,
   "metadata": {},
   "outputs": [
    {
     "name": "stdout",
     "output_type": "stream",
     "text": [
      "2\n",
      "3\n",
      "4\n"
     ]
    }
   ],
   "source": [
    "for i in range(2, 5):\n",
    "    print(i)"
   ]
  },
  {
   "cell_type": "code",
   "execution_count": 8,
   "metadata": {},
   "outputs": [
    {
     "name": "stdout",
     "output_type": "stream",
     "text": [
      "2\n",
      "4\n",
      "6\n",
      "8\n"
     ]
    }
   ],
   "source": [
    "for i in range(2, 10, 2):\n",
    "    print(i)"
   ]
  },
  {
   "cell_type": "code",
   "execution_count": 9,
   "metadata": {},
   "outputs": [
    {
     "name": "stdout",
     "output_type": "stream",
     "text": [
      "0\n",
      "1\n",
      "2\n",
      "3\n",
      "4\n",
      "5\n",
      "6\n",
      "7\n",
      "8\n",
      "9\n",
      "Done\n"
     ]
    }
   ],
   "source": [
    "for i in range(10):\n",
    "    print(i)\n",
    "else:\n",
    "    print(\"Done\")"
   ]
  },
  {
   "cell_type": "code",
   "execution_count": 10,
   "metadata": {},
   "outputs": [
    {
     "name": "stdout",
     "output_type": "stream",
     "text": [
      "apple john\n",
      "apple adam\n",
      "apple chris\n",
      "mango john\n",
      "mango adam\n",
      "mango chris\n",
      "jackfruit john\n",
      "jackfruit adam\n",
      "jackfruit chris\n"
     ]
    }
   ],
   "source": [
    "#Nested loop\n",
    "\n",
    "x = [\"apple\", \"mango\", \"jackfruit\"]\n",
    "y = [\"john\", \"adam\", \"chris\"]\n",
    "\n",
    "for i in x:\n",
    "    for j in y:\n",
    "        print(i, j)"
   ]
  },
  {
   "cell_type": "code",
   "execution_count": 11,
   "metadata": {},
   "outputs": [],
   "source": [
    "for i in x:\n",
    "    pass"
   ]
  },
  {
   "cell_type": "markdown",
   "metadata": {},
   "source": [
    "List Comprehension"
   ]
  },
  {
   "cell_type": "code",
   "execution_count": 12,
   "metadata": {},
   "outputs": [
    {
     "name": "stdout",
     "output_type": "stream",
     "text": [
      "['apple', 'mango', 'jackfruit']\n"
     ]
    }
   ],
   "source": [
    "LC = [i for i in x]\n",
    "print(LC)"
   ]
  },
  {
   "cell_type": "code",
   "execution_count": 13,
   "metadata": {},
   "outputs": [
    {
     "name": "stdout",
     "output_type": "stream",
     "text": [
      "['john', 'john', 'john', 'adam', 'adam', 'adam', 'chris', 'chris', 'chris']\n"
     ]
    }
   ],
   "source": [
    "LC = [j for j in y for i in x]\n",
    "print(LC)"
   ]
  },
  {
   "cell_type": "code",
   "execution_count": 15,
   "metadata": {},
   "outputs": [
    {
     "name": "stdout",
     "output_type": "stream",
     "text": [
      "['mango']\n"
     ]
    }
   ],
   "source": [
    "LC = [i for i in x if i==\"mango\"]\n",
    "print(LC)"
   ]
  },
  {
   "cell_type": "code",
   "execution_count": 16,
   "metadata": {},
   "outputs": [
    {
     "name": "stdout",
     "output_type": "stream",
     "text": [
      "apple john\n",
      "mango adam\n",
      "jackfruit chris\n"
     ]
    }
   ],
   "source": [
    "#zip\n",
    "\n",
    "for i,j in zip(x,y):\n",
    "    print(i, j)"
   ]
  },
  {
   "cell_type": "code",
   "execution_count": 18,
   "metadata": {},
   "outputs": [
    {
     "name": "stdout",
     "output_type": "stream",
     "text": [
      "0 apple\n",
      "1 mango\n",
      "2 jackfruit\n"
     ]
    }
   ],
   "source": [
    "#Enumerate\n",
    "\n",
    "for index, element in enumerate(x):\n",
    "    print(index, element)"
   ]
  },
  {
   "cell_type": "code",
   "execution_count": null,
   "metadata": {},
   "outputs": [],
   "source": []
  }
 ],
 "metadata": {
  "kernelspec": {
   "display_name": "Python 3",
   "language": "python",
   "name": "python3"
  },
  "language_info": {
   "codemirror_mode": {
    "name": "ipython",
    "version": 3
   },
   "file_extension": ".py",
   "mimetype": "text/x-python",
   "name": "python",
   "nbconvert_exporter": "python",
   "pygments_lexer": "ipython3",
   "version": "3.7.7"
  }
 },
 "nbformat": 4,
 "nbformat_minor": 4
}
