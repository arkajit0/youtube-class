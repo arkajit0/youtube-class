{
 "cells": [
  {
   "cell_type": "markdown",
   "metadata": {},
   "source": [
    "## Functions"
   ]
  },
  {
   "cell_type": "markdown",
   "metadata": {},
   "source": [
    "Creating a function in Python <br>\n",
    "\n",
    "In python functions are defined using def"
   ]
  },
  {
   "cell_type": "code",
   "execution_count": 1,
   "metadata": {},
   "outputs": [],
   "source": [
    "#creating a function\n",
    "def function_name():\n",
    "    print(\"python Function\")"
   ]
  },
  {
   "cell_type": "code",
   "execution_count": 2,
   "metadata": {},
   "outputs": [
    {
     "name": "stdout",
     "output_type": "stream",
     "text": [
      "python Function\n"
     ]
    }
   ],
   "source": [
    "#calling a function\n",
    "function_name()"
   ]
  },
  {
   "cell_type": "code",
   "execution_count": 3,
   "metadata": {},
   "outputs": [
    {
     "name": "stdout",
     "output_type": "stream",
     "text": [
      "2\n",
      "3\n",
      "4\n",
      "5\n",
      "6\n",
      "7\n",
      "8\n",
      "9\n"
     ]
    }
   ],
   "source": [
    "#passing arguments in function call\n",
    "\n",
    "def number_range(start, end):\n",
    "    for i in range(start, end):\n",
    "        print(i)\n",
    "        \n",
    "#call\n",
    "number_range(2, 10)"
   ]
  },
  {
   "cell_type": "code",
   "execution_count": 11,
   "metadata": {},
   "outputs": [
    {
     "name": "stdout",
     "output_type": "stream",
     "text": [
      "1\n",
      "2\n",
      "3\n",
      "4\n",
      "5\n"
     ]
    }
   ],
   "source": [
    "def listIter(listData):\n",
    "    for i in listData:\n",
    "        print(i)\n",
    "        \n",
    "#call\n",
    "listIter([1,2,3,4,5])"
   ]
  },
  {
   "cell_type": "markdown",
   "metadata": {},
   "source": [
    "Note: function call must be done with same number of arguments with which it is created"
   ]
  },
  {
   "cell_type": "code",
   "execution_count": 8,
   "metadata": {},
   "outputs": [
    {
     "name": "stdout",
     "output_type": "stream",
     "text": [
      "My math score is 70\n"
     ]
    }
   ],
   "source": [
    "#*(Asterick) arguments\n",
    "\n",
    "def mathScore(*args): #it takes input and makes them a list\n",
    "    #we can also use any name instead of args\n",
    "    print(\"My math score is {}\".format(args[2]))\n",
    "\n",
    "#call\n",
    "mathScore(20,40,70,80,100)"
   ]
  },
  {
   "cell_type": "code",
   "execution_count": 9,
   "metadata": {},
   "outputs": [
    {
     "name": "stdout",
     "output_type": "stream",
     "text": [
      "{'Math': 94, 'Physics': 91, 'Statistics': 97}\n"
     ]
    }
   ],
   "source": [
    "#**kwargs\n",
    "\n",
    "def ReportCard(**kwargs): #it takes argument as key value pairs\n",
    "    print(kwargs)\n",
    "    \n",
    "ReportCard(Math=94, Physics=91, Statistics=97)"
   ]
  },
  {
   "cell_type": "code",
   "execution_count": 10,
   "metadata": {},
   "outputs": [
    {
     "name": "stdout",
     "output_type": "stream",
     "text": [
      "score of Math subject is 94\n",
      "score of Physics subject is 91\n",
      "score of Statistics subject is 97\n"
     ]
    }
   ],
   "source": [
    "def ReportCard(**kwargs): #it takes argument as key value pairs\n",
    "    for key, value in kwargs.items():\n",
    "        print(\"score of {} subject is {}\".format(key, value))\n",
    "    \n",
    "ReportCard(Math=94, Physics=91, Statistics=97)"
   ]
  },
  {
   "cell_type": "code",
   "execution_count": 12,
   "metadata": {},
   "outputs": [
    {
     "name": "stdout",
     "output_type": "stream",
     "text": [
      "4\n",
      "16\n",
      "100\n"
     ]
    }
   ],
   "source": [
    "#Return statement\n",
    "\n",
    "def func(number):\n",
    "    return number**2\n",
    "\n",
    "print(func(2))\n",
    "print(func(4))\n",
    "print(func(10))"
   ]
  },
  {
   "cell_type": "code",
   "execution_count": 13,
   "metadata": {},
   "outputs": [
    {
     "name": "stdout",
     "output_type": "stream",
     "text": [
      "None\n"
     ]
    }
   ],
   "source": [
    "#pass \n",
    "\n",
    "def func(number):\n",
    "    pass\n",
    "\n",
    "print(func(8))"
   ]
  },
  {
   "cell_type": "markdown",
   "metadata": {},
   "source": [
    "### Recursion"
   ]
  },
  {
   "cell_type": "code",
   "execution_count": 28,
   "metadata": {},
   "outputs": [
    {
     "name": "stdout",
     "output_type": "stream",
     "text": [
      "1\n"
     ]
    }
   ],
   "source": [
    "def factorial(n):\n",
    "    if n>1:\n",
    "        result = n*factorial(n-1)\n",
    "        return result\n",
    "    elif n==1 or n==0:\n",
    "        return 1\n",
    "    else:\n",
    "        print(\"enter a valid value\")\n",
    "\n",
    "#call\n",
    "print(factorial(0))"
   ]
  },
  {
   "cell_type": "markdown",
   "metadata": {},
   "source": [
    "### Lambda function\n",
    "\n",
    "- A lambda function is a small anonymous function.\n",
    "- It can take any number of arguments, but can only have one expression."
   ]
  },
  {
   "cell_type": "code",
   "execution_count": 2,
   "metadata": {},
   "outputs": [
    {
     "name": "stdout",
     "output_type": "stream",
     "text": [
      "6\n"
     ]
    }
   ],
   "source": [
    "# with one argument\n",
    "a = lambda i: i+1\n",
    "\n",
    "print(a(5))"
   ]
  },
  {
   "cell_type": "code",
   "execution_count": 3,
   "metadata": {},
   "outputs": [
    {
     "name": "stdout",
     "output_type": "stream",
     "text": [
      "15\n"
     ]
    }
   ],
   "source": [
    "# with more than one argument\n",
    "a = lambda i,j: i+j\n",
    "\n",
    "print(a(5,10))"
   ]
  },
  {
   "cell_type": "code",
   "execution_count": 6,
   "metadata": {},
   "outputs": [
    {
     "name": "stdout",
     "output_type": "stream",
     "text": [
      "30\n"
     ]
    }
   ],
   "source": [
    "#using lambda function inside a function\n",
    "\n",
    "def func(a):\n",
    "    return lambda i: i*a\n",
    "\n",
    "#call\n",
    "result = func(5)\n",
    "print(result(6))"
   ]
  },
  {
   "cell_type": "code",
   "execution_count": 7,
   "metadata": {},
   "outputs": [
    {
     "name": "stdout",
     "output_type": "stream",
     "text": [
      "30\n"
     ]
    }
   ],
   "source": [
    "print(func(5)(6))"
   ]
  },
  {
   "cell_type": "markdown",
   "metadata": {},
   "source": [
    "### Generators\n",
    "\n",
    "- A generator-function is defined like a normal function, but whenever it needs to generate a value, it does so with the yield keyword rather than return."
   ]
  },
  {
   "cell_type": "code",
   "execution_count": 8,
   "metadata": {},
   "outputs": [],
   "source": [
    "def generator(n):\n",
    "    for i in range(n):\n",
    "        yield i\n",
    "        \n",
    "x = generator(10)"
   ]
  },
  {
   "cell_type": "code",
   "execution_count": 12,
   "metadata": {},
   "outputs": [
    {
     "name": "stdout",
     "output_type": "stream",
     "text": [
      "1\n",
      "2\n",
      "3\n"
     ]
    }
   ],
   "source": [
    "print(x.__next__())\n",
    "print(x.__next__())\n",
    "print(x.__next__())"
   ]
  },
  {
   "cell_type": "code",
   "execution_count": 13,
   "metadata": {},
   "outputs": [
    {
     "name": "stdout",
     "output_type": "stream",
     "text": [
      "4\n"
     ]
    }
   ],
   "source": [
    "print(next(x))"
   ]
  },
  {
   "cell_type": "markdown",
   "metadata": {},
   "source": [
    "### Iterators\n",
    "\n",
    "- An iterator is an object that contains a countable number of values."
   ]
  },
  {
   "cell_type": "code",
   "execution_count": 15,
   "metadata": {},
   "outputs": [
    {
     "name": "stdout",
     "output_type": "stream",
     "text": [
      "john\n",
      "jack\n",
      "mike\n"
     ]
    }
   ],
   "source": [
    "x = iter([\"john\", \"jack\", \"mike\", \"sam\"])\n",
    "\n",
    "print(next(x))\n",
    "print(next(x))\n",
    "print(next(x))"
   ]
  },
  {
   "cell_type": "markdown",
   "metadata": {},
   "source": [
    "### Decorators\n",
    "\n",
    "- A decorator takes in a function, adds some functionality and returns it. In this tutorial, you will learn how you can create a decorator and why you should use it."
   ]
  },
  {
   "cell_type": "code",
   "execution_count": 16,
   "metadata": {},
   "outputs": [],
   "source": [
    "def decor(func):\n",
    "    def func_name():\n",
    "        print(\"decorator done\")\n",
    "        func()\n",
    "    return func_name\n",
    "\n",
    "def call_now():\n",
    "    print(\"call now activated\")"
   ]
  },
  {
   "cell_type": "code",
   "execution_count": 20,
   "metadata": {},
   "outputs": [
    {
     "name": "stdout",
     "output_type": "stream",
     "text": [
      "decorator done\n",
      "call now activated\n"
     ]
    }
   ],
   "source": [
    "x = decor(call_now)\n",
    "x()"
   ]
  },
  {
   "cell_type": "code",
   "execution_count": 21,
   "metadata": {},
   "outputs": [
    {
     "name": "stdout",
     "output_type": "stream",
     "text": [
      "decorator done\n",
      "call now activated\n"
     ]
    }
   ],
   "source": [
    "#Now we can also reasign the function\n",
    "\n",
    "call_now = decor(call_now)\n",
    "call_now()"
   ]
  },
  {
   "cell_type": "code",
   "execution_count": 22,
   "metadata": {},
   "outputs": [],
   "source": [
    "#now instead of ressigning it repeatedly we can use\n",
    "\n",
    "def decor(func):\n",
    "    def func_name():\n",
    "        print(\"decorator done\")\n",
    "        func()\n",
    "    return func_name\n",
    "\n",
    "@decor\n",
    "def call_now():\n",
    "    print(\"call now activated\")"
   ]
  },
  {
   "cell_type": "code",
   "execution_count": 23,
   "metadata": {},
   "outputs": [
    {
     "name": "stdout",
     "output_type": "stream",
     "text": [
      "decorator done\n",
      "call now activated\n"
     ]
    }
   ],
   "source": [
    "call_now()"
   ]
  },
  {
   "cell_type": "code",
   "execution_count": 24,
   "metadata": {},
   "outputs": [],
   "source": [
    "def add_func(func):\n",
    "    def inside_func(a, b):\n",
    "        print(\"adding a and b\")\n",
    "        if a == 0 or b==0:\n",
    "            print(\"please enter a positive number\")\n",
    "            return \n",
    "        return func(a,b)\n",
    "    return inside_func\n",
    "\n",
    "@add_func\n",
    "def add_no(a,b):\n",
    "    return a+b\n",
    "    "
   ]
  },
  {
   "cell_type": "code",
   "execution_count": 25,
   "metadata": {},
   "outputs": [
    {
     "name": "stdout",
     "output_type": "stream",
     "text": [
      "adding a and b\n",
      "12\n"
     ]
    }
   ],
   "source": [
    "print(add_no(4,8))"
   ]
  },
  {
   "cell_type": "code",
   "execution_count": 26,
   "metadata": {},
   "outputs": [
    {
     "name": "stdout",
     "output_type": "stream",
     "text": [
      "adding a and b\n",
      "please enter a positive number\n",
      "None\n",
      "adding a and b\n",
      "please enter a positive number\n",
      "None\n"
     ]
    }
   ],
   "source": [
    "print(add_no(0,5))\n",
    "print(add_no(10,0))"
   ]
  },
  {
   "cell_type": "code",
   "execution_count": null,
   "metadata": {},
   "outputs": [],
   "source": []
  }
 ],
 "metadata": {
  "kernelspec": {
   "display_name": "Python 3",
   "language": "python",
   "name": "python3"
  },
  "language_info": {
   "codemirror_mode": {
    "name": "ipython",
    "version": 3
   },
   "file_extension": ".py",
   "mimetype": "text/x-python",
   "name": "python",
   "nbconvert_exporter": "python",
   "pygments_lexer": "ipython3",
   "version": "3.7.7"
  }
 },
 "nbformat": 4,
 "nbformat_minor": 4
}
